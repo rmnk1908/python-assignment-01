{
  "nbformat": 4,
  "nbformat_minor": 0,
  "metadata": {
    "colab": {
      "provenance": [],
      "authorship_tag": "ABX9TyPR2mGASsFi8EAwwzG1StDh",
      "include_colab_link": true
    },
    "kernelspec": {
      "name": "python3",
      "display_name": "Python 3"
    },
    "language_info": {
      "name": "python"
    }
  },
  "cells": [
    {
      "cell_type": "markdown",
      "metadata": {
        "id": "view-in-github",
        "colab_type": "text"
      },
      "source": [
        "<a href=\"https://colab.research.google.com/github/rmnk1908/python-assignment-01/blob/main/python_assignment.ipynb\" target=\"_parent\"><img src=\"https://colab.research.google.com/assets/colab-badge.svg\" alt=\"Open In Colab\"/></a>"
      ]
    },
    {
      "cell_type": "markdown",
      "source": [
        "---\n",
        "#PYTHON ASSIGNEMNT\n",
        "---"
      ],
      "metadata": {
        "id": "3YmiWLEs1eBp"
      }
    },
    {
      "cell_type": "markdown",
      "source": [
        "#Q1. L is a list defined as L= [11, 12, 13, 14].\n",
        "---\n",
        "(i) WAP to add 50 and 60 to L.\n",
        "\n",
        "(ii) WAP to remove 11 and 13from L.\n",
        "\n",
        "(iii) WAP to sort L in ascending order.\n",
        "\n",
        "(iv) WAP to sort L in descending order.\n",
        "\n",
        "(v) WAP to search for 13 in L.\n",
        "\n",
        "(vi) WAP to count the number of elements present in L.\n",
        "\n",
        "(vii) WAP to sum all the elements in L.\n",
        "\n",
        "(viii) WAP to sum all ODD numbers in L.\n",
        "\n",
        "(ix) WAP to sum all EVEN numbers in L.\n",
        "\n",
        "(x) WAP to sum all PRIME numbers in L.\n",
        "\n",
        "(xi) WAP to clear all the elements in L.\n",
        "\n",
        "(xii) WAP to delete L.\n",
        "\n",
        "---"
      ],
      "metadata": {
        "id": "b6TM5Lkn1l4O"
      }
    },
    {
      "cell_type": "code",
      "execution_count": null,
      "metadata": {
        "id": "xNyTaYtN0XuU"
      },
      "outputs": [],
      "source": [
        "L= [11, 12, 13, 14]\n",
        "\n",
        "L.append(50) #adding elements in the list\n",
        "L.append(60)\n",
        "L.append(17)\n",
        "print(L)\n",
        "\n",
        "del L[0] #deleting elements from the list\n",
        "del L[1]\n",
        "print(L)\n",
        "\n",
        "L.sort() #sorting in ascending order\n",
        "print(L)\n",
        "\n",
        "L.sort(reverse=True) #sorting in descending order\n",
        "print(L)\n",
        "\n",
        "print(11 in L) #searching the elements in the list\n",
        "print(60 in L)\n",
        "\n",
        "print(\"number of elements in the list = \", len(L))\n",
        "\n",
        "print (\"sum of all the elements = \", sum(L))\n",
        "\n",
        "add = 0 #sum of all odd numbers\n",
        "for i in L[0:5]:\n",
        "  if i%2!=0:\n",
        "    add += i\n",
        "print(\"sum of all odd elements = \", add)\n",
        "\n",
        "add_again = 0 #sum of all even numbers\n",
        "for i in L[0:5]:\n",
        "  if i%2==0:\n",
        "    add_again += i\n",
        "print(\"sum of all even elements = \", add_again)\n",
        "\n",
        "adding = 0\n",
        "def isprime(n): #funtion to find prime number\n",
        "  if n<2:\n",
        "    return False\n",
        "  for i in range(2, (n//2)+1):\n",
        "    if n%i==0:\n",
        "      return False\n",
        "  return True\n",
        "\n",
        "for num in L:\n",
        "  if isprime(num):\n",
        "    adding += num\n",
        "\n",
        "print(\"sum of all prime numbers in the list = \", adding)\n",
        "\n",
        "L.clear()\n",
        "print(L)\n",
        "\n",
        "try:\n",
        "  del L\n",
        "  print(L)\n",
        "except:\n",
        "  print(\"list does not exist\")\n"
      ]
    },
    {
      "cell_type": "markdown",
      "source": [
        "---\n",
        "#Q2. D is a dictionary defined as D= {1:5.6, 2:7.8, 3:6.6, 4:8.7, 5:7.7).\n",
        "---\n",
        "\n",
        "(i) WAP to add new entry in D; key=8 and value is 8.8\n",
        "\n",
        "(ii) WAP to remove key=2.\n",
        "\n",
        "(iii) WAP to check weather 6 key is present in D.\n",
        "\n",
        "(iv) WAP to count the number of elements present in D.\n",
        "\n",
        "(v) WAP to add all the values present D.\n",
        "\n",
        "(vi) WAP to update the value of 3 to 7.1.\n",
        "\n",
        "(vii) WAP to clear the dictionary.\n",
        "\n",
        "---\n"
      ],
      "metadata": {
        "id": "_XoDcQpm_KsO"
      }
    },
    {
      "cell_type": "code",
      "source": [
        "D = {\n",
        "      1 : 5.6,\n",
        "      2 : 7.8,\n",
        "      3 : 6.6,\n",
        "      4 : 8.7,\n",
        "      5 : 7.7 }\n",
        "D[8] = 8.8\n",
        "print(D)\n",
        "\n",
        "del D[2]\n",
        "print(D)\n",
        "\n",
        "print(1 in D)\n",
        "\n",
        "print(len(D))\n",
        "\n",
        "print(sum(D)) #sum of keys\n",
        "print(sum(D.values())) #sum of values\n",
        "\n",
        "D[3] = 7.1\n",
        "print(D)\n",
        "\n",
        "print(D.clear())"
      ],
      "metadata": {
        "id": "7wGsS5GR_uN-"
      },
      "execution_count": null,
      "outputs": []
    },
    {
      "cell_type": "markdown",
      "source": [
        "---\n",
        "#Q3. S1 is a set defined as S1= [10, 20, 30, 40, 50, 60].\n",
        "#S2 is a set defined as S2= [40, 50, 60, 70, 80, 90].\n",
        "---\n",
        "\n",
        "(i) WAP to add 55 and 66 in Set S1.\n",
        "\n",
        "(ii) WAP to remove 10 and 30 from Set S1.\n",
        "\n",
        "(iii) WAP to check whether 40 is present in S1.\n",
        "\n",
        "(iv) WAP to find the union between SI and S2.\n",
        "\n",
        "(v) WAP to find the intersection between S1 and S2.\n",
        "\n",
        "(vi) WAP to find the S1-S2.\n",
        "\n",
        "---"
      ],
      "metadata": {
        "id": "aulXpu3vDMR2"
      }
    },
    {
      "cell_type": "code",
      "source": [
        "S1= {10, 20, 30, 40, 50, 60}\n",
        "S2= {40, 50, 60, 70, 80, 90}\n",
        "\n",
        "S1.add(55)\n",
        "S1.add(66)\n",
        "print(S1)\n",
        "\n",
        "S1.remove(10)\n",
        "S1.remove(30)\n",
        "print(S1)\n",
        "\n",
        "print(40 in S1)\n",
        "\n",
        "print(S1.union(S2))\n",
        "print(S1.intersection(S2))\n",
        "print(S1-S2) #elements in S1 but not in S2"
      ],
      "metadata": {
        "id": "t3GgabPQDWyV"
      },
      "execution_count": null,
      "outputs": []
    },
    {
      "cell_type": "markdown",
      "source": [
        "---\n",
        "#Q4. Write the following program.\n",
        "\n",
        "(1) WAP to print 100 random strings whose length between 6 and 8.\n",
        "\n",
        "(ii) WAP to print all prime numbers between 600 and 800.\n",
        "\n",
        "(iii) WAP to print all numbers between 100 and 1000 that are divisible by 7 and 9.\n",
        "\n",
        "---"
      ],
      "metadata": {
        "id": "FzMgQ5PSGUYa"
      }
    },
    {
      "cell_type": "code",
      "source": [
        "import string\n",
        "import random\n",
        "\n",
        "for s in range(100):\n",
        "    length = random.randint(6, 8)  # Random length between 6 and 8\n",
        "    characters = string.ascii_letters + string.digits\n",
        "    random_string = ''.join(random.choice(characters) for s in range(length))\n",
        "    print(random_string,  end = ' ')\n"
      ],
      "metadata": {
        "id": "vmznwjOwHarX"
      },
      "execution_count": null,
      "outputs": []
    },
    {
      "cell_type": "code",
      "source": [
        "#printing all prime numbers between 600 and 800\n",
        "def is_prime(n):\n",
        "  for i in range(2, (n//2)+1):\n",
        "    if n < 2:\n",
        "      return False\n",
        "    if n%i==0:\n",
        "      return False\n",
        "  return True\n",
        "\n",
        "for num in range(600,800):\n",
        "  if is_prime(num):\n",
        "    print(num,  end = ' ')"
      ],
      "metadata": {
        "id": "AFK3A8sHKzFW"
      },
      "execution_count": null,
      "outputs": []
    },
    {
      "cell_type": "code",
      "source": [
        "#printing all numbers tht are divisible by 7 and 9\n",
        "for i in range(100,1000):\n",
        "  if i%7==0 and i%9==0:\n",
        "    print(i , end = ' ')"
      ],
      "metadata": {
        "id": "8ScXY1E9L82e"
      },
      "execution_count": null,
      "outputs": []
    },
    {
      "cell_type": "markdown",
      "source": [
        "---\n",
        "#Q5 WAP to create two lists of 10 random numbers between 10 and 30, Find\n",
        "---\n",
        "(1) Common numbers in the two lists\n",
        "\n",
        "(ii) Unique numbers in both the list\n",
        "\n",
        "(iii) Minimum in both the list\n",
        "\n",
        "(iv) Maximum in both the list\n",
        "\n",
        "(v) Sum of both the lists\n",
        "\n",
        "---"
      ],
      "metadata": {
        "id": "SQNItM4INDrs"
      }
    },
    {
      "cell_type": "code",
      "source": [
        "import random\n",
        "l1 = [random.randint(10,20) for l in range(5)]\n",
        "l2 = [random.randint(10,20) for l in range(5)]\n",
        "print(l1)\n",
        "print(l2)\n",
        "\n",
        "common = list(set(l1).intersection(set(l2))) #Common numbers\n",
        "print(\"Common Numbers:\", common)\n",
        "\n",
        "unique = list(set(l1) ^ set(l2)) #unique numbers in both lists\n",
        "print(\"Unique Numbers:\", unique)\n",
        "\n",
        "print(\"Minimum in List 1:\", min(l1)) #Minimum in both lists\n",
        "print(\"Minimum in List 2:\", min(l2))\n",
        "\n",
        "print(\"Maximum in List 1:\", max(l1)) #Maximum in both lists\n",
        "print(\"Maximum in List 2:\", max(l2))\n",
        "\n",
        "print(\"Sum of List 1:\", sum(l1)) #Sum of both lists\n",
        "print(\"Sum of List 2:\", sum(l2))\n"
      ],
      "metadata": {
        "id": "x30pKgeyNK_k"
      },
      "execution_count": null,
      "outputs": []
    },
    {
      "cell_type": "markdown",
      "source": [
        "---\n",
        "Q6. WAP to create a list of 100 random numbers between 100 and 900. Count and print the:\n",
        "---\n",
        "\n",
        "(i) All odd numbers\n",
        "\n",
        "(ii) All even numbers\n",
        "\n",
        "(iii) All prime numbers\n",
        "\n",
        "---\n"
      ],
      "metadata": {
        "id": "f-vKqxmQUwf9"
      }
    },
    {
      "cell_type": "code",
      "source": [
        "import random\n",
        "\n",
        "def isprime(n):\n",
        "  if n < 2:\n",
        "      return False\n",
        "  for i in range(2, (n//2)+1):\n",
        "    if n%i==0:\n",
        "      return False\n",
        "  return True\n",
        "\n",
        "def odd(n):\n",
        "  if n % 2 != 0:\n",
        "    return True\n",
        "\n",
        "def even(n):\n",
        "  if n % 2 ==0:\n",
        "    return True\n",
        "\n",
        "l = [random.randint(100,900) for _ in range(100)]\n",
        "print(\"list of 100 numbers =  \", l)\n",
        "\n",
        "print(\"\\nall odd numbers = \")\n",
        "for s in l:\n",
        "  if odd(s):\n",
        "    print(s, end = ' ')\n",
        "\n",
        "print(\"\\n\")\n",
        "\n",
        "print(\"all prime numbers = \")\n",
        "for s in l:\n",
        "  if isprime(s):\n",
        "    print(s, end = ' ')\n",
        "\n",
        "print(\"\\n\")\n",
        "\n",
        "print(\"all even numbers = \")\n",
        "for s in l:\n",
        "  if even(s):\n",
        "    print(s, end = ' ')"
      ],
      "metadata": {
        "id": "yWtlGgSyWy-m"
      },
      "execution_count": null,
      "outputs": []
    },
    {
      "cell_type": "markdown",
      "source": [
        "---\n",
        "#Q7. D is a dictionary defined as D={1:\"One\",2:\"Two\", 3:\"Three\",4:\"Four\", 5:\"Five\").\n",
        "---\n",
        "\n",
        "WAP to read all the keys and values from dictionary and write to the file in the given below format.\n",
        "\n",
        "Keyl, Valuel\n",
        "\n",
        "Key2, Value2\n",
        "\n",
        "Key3, Value3\n",
        "\n",
        "---"
      ],
      "metadata": {
        "id": "0FeEPMHdbH3z"
      }
    },
    {
      "cell_type": "code",
      "source": [
        "D = {\n",
        "      1 : \"One\",\n",
        "      2 : \"Two\",\n",
        "      3 : \"Three\",\n",
        "      4 : \"Four\",\n",
        "      5 : \"Five\"  }\n",
        "\n",
        "for key, value in D.items():\n",
        "  print(key, \":\", value)"
      ],
      "metadata": {
        "id": "ruSwrL_ptvTp"
      },
      "execution_count": null,
      "outputs": []
    },
    {
      "cell_type": "markdown",
      "source": [
        "---\n",
        "#Q8. L is a list defined as L=(\"One\", \"Two\", \"Three\", \"Four\",\"Five\").\n",
        "---\n",
        "\n",
        "WAP to count the length of reach element from a list and write to the file in the given below format:\n",
        "\n",
        "One, 3\n",
        "\n",
        "Two, 3\n",
        "\n",
        "Four, 4\n",
        "\n",
        "---"
      ],
      "metadata": {
        "id": "N4JO7LQ9u2TE"
      }
    },
    {
      "cell_type": "code",
      "source": [
        "L = [\"One\", \"Two\", \"Three\", \"Four\",\"Five\"]\n",
        "for l in L:\n",
        "  print( l ,\"-->\", len(l))"
      ],
      "metadata": {
        "id": "Fd6nMke4vE2E"
      },
      "execution_count": null,
      "outputs": []
    },
    {
      "cell_type": "markdown",
      "source": [
        "---\n",
        "#Q9. Write to the file 100 random strings whose length between 10 and 15.\n",
        "---"
      ],
      "metadata": {
        "id": "_GJviTDew0G2"
      }
    },
    {
      "cell_type": "code",
      "source": [
        "import random\n",
        "import string\n",
        "\n",
        "with open(\"random_strings.txt\", \"w\") as file:\n",
        "    for _ in range(100):\n",
        "        length = random.randint(10, 15)  # Random length between 10 and 15\n",
        "        rand_str = ''.join(random.choices(string.ascii_letters + string.digits, k=length))\n",
        "        file.write(rand_str + \"\\n\")  # Write each string on a new line\n",
        "\n",
        "print(\"100 random strings written to 'random_strings.txt'\")\n"
      ],
      "metadata": {
        "id": "iPsHexa-xA7w"
      },
      "execution_count": null,
      "outputs": []
    },
    {
      "cell_type": "markdown",
      "source": [
        "---\n",
        "#Q10. Write to the file all prime numbers between 600 and 800.\n",
        "---"
      ],
      "metadata": {
        "id": "dLBLSGLl1qON"
      }
    },
    {
      "cell_type": "code",
      "source": [
        "def isprime(n):\n",
        "    if n < 2:\n",
        "        return False\n",
        "    for i in range(2, (n // 2) + 1):\n",
        "        if n % i == 0:\n",
        "            return False\n",
        "    return True\n",
        "\n",
        "# Write all prime numbers to a file\n",
        "with open(\"prime_600_800.txt\", \"w\") as file:\n",
        "    for num in range(600, 801):\n",
        "        if isprime(num):\n",
        "            file.write(str(num) + \"\\n\")\n",
        "\n",
        "print(\"All prime numbers between 600 and 800 written to 'prime_600_800.txt'\")\n"
      ],
      "metadata": {
        "id": "xfk0Vbp41yi7"
      },
      "execution_count": null,
      "outputs": []
    },
    {
      "cell_type": "markdown",
      "source": [
        "---\n",
        "#Q11. WAP to calculate the time taken by a program.\n",
        "---"
      ],
      "metadata": {
        "id": "gY51Wq4q2C47"
      }
    },
    {
      "cell_type": "code",
      "source": [
        "import time\n",
        "\n",
        "# Start timing\n",
        "start = time.time()\n",
        "\n",
        "# --- Code block to measure ---\n",
        "sum = 0\n",
        "for i in range(1, 1000000):\n",
        "    sum += i\n",
        "# -----------------------------\n",
        "\n",
        "# End timing\n",
        "end = time.time()\n",
        "\n",
        "print(\"Time taken by the program:\", end - start, \"seconds\")\n"
      ],
      "metadata": {
        "id": "5bupC-L32dy5"
      },
      "execution_count": null,
      "outputs": []
    },
    {
      "cell_type": "markdown",
      "source": [
        "---\n",
        "#Q12. WAP to sort following number of elements in a list, calculate time taken and plot the graph.\n",
        "---\n",
        "Number of elements in list\n",
        "\n",
        "Time Taken\n",
        "\n",
        "5k\n",
        "\n",
        "T1\n",
        "\n",
        "10k\n",
        "\n",
        "T2\n",
        "\n",
        "15k\n",
        "\n",
        "T3\n",
        "\n",
        "20k\n",
        "\n",
        "T4\n",
        "\n",
        "25k\n",
        "\n",
        "T5\n",
        "\n",
        "---\n"
      ],
      "metadata": {
        "id": "vqK_5gzZ21sy"
      }
    },
    {
      "cell_type": "code",
      "source": [
        "import random\n",
        "import time\n",
        "import matplotlib.pyplot as plt\n",
        "\n",
        "# List sizes to test\n",
        "sizes = [5000, 10000, 15000, 20000, 25000]\n",
        "times = []\n",
        "\n",
        "# Measure sorting time for each size\n",
        "for size in sizes:\n",
        "    lst = [random.randint(1, 100000) for _ in range(size)]\n",
        "    start = time.time()\n",
        "    lst.sort()\n",
        "    end = time.time()\n",
        "    duration = end - start\n",
        "    times.append(duration)\n",
        "    print(f\"Sorted {size} elements in {duration:.6f} seconds\")\n",
        "\n",
        "# Plotting\n",
        "plt.plot(sizes, times, marker='o', linestyle='-', color='blue')\n",
        "plt.title(\"List Size vs Sorting Time\")\n",
        "plt.xlabel(\"Number of Elements\")\n",
        "plt.ylabel(\"Time Taken (seconds)\")\n",
        "plt.grid(True)\n",
        "plt.show()\n"
      ],
      "metadata": {
        "id": "4hS0owPb3Uqi"
      },
      "execution_count": null,
      "outputs": []
    },
    {
      "cell_type": "markdown",
      "source": [
        "---\n",
        "#Q13. WAP to create a dictionary of student marks in five subjects and you have to find the student having maximum and minimum average marks.\n",
        "---"
      ],
      "metadata": {
        "id": "bwlaZvfe3h6I"
      }
    },
    {
      "cell_type": "code",
      "source": [
        "# Dictionary of students and their marks in 5 subjects\n",
        "students = {\n",
        "    \"Meena\": [89, 76, 92, 85, 78],\n",
        "    \"Ravi\": [67, 74, 81, 69, 73],\n",
        "    \"Asha\": [91, 88, 95, 92, 90],\n",
        "    \"Rohan\": [55, 60, 58, 65, 62],\n",
        "    \"Divya\": [79, 85, 84, 83, 80]\n",
        "}\n",
        "\n",
        "# Store averages in a separate dictionary\n",
        "averages = {}\n",
        "\n",
        "for name, marks in students.items():\n",
        "    avg = sum(marks) // len(marks)\n",
        "    averages[name] = avg\n",
        "\n",
        "# Find student with max and min average\n",
        "max_student = max(averages, key=averages.get)\n",
        "min_student = min(averages, key=averages.get)\n",
        "\n",
        "print(f\"Student with maximum average marks: {max_student} ({averages[max_student]:.2f})\")\n",
        "print(f\"Student with minimum average marks: {min_student} ({averages[min_student]:.2f})\")\n"
      ],
      "metadata": {
        "id": "V4-7bGn13s7f"
      },
      "execution_count": null,
      "outputs": []
    }
  ]
}